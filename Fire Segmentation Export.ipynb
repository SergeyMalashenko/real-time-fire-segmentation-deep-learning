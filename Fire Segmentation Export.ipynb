{
 "cells": [
  {
   "cell_type": "code",
   "execution_count": 1,
   "metadata": {
    "id": "X55qUQcSNj7G"
   },
   "outputs": [],
   "source": [
    "# Settings for autoreloading.\n",
    "\n",
    "%load_ext autoreload\n",
    "%autoreload 2"
   ]
  },
  {
   "cell_type": "code",
   "execution_count": 19,
   "metadata": {
    "id": "6j-VI-xuXff-"
   },
   "outputs": [],
   "source": [
    "import onnxruntime as ort\n",
    "import numpy       as np\n",
    "import scipy       as sp\n",
    "\n",
    "import torch\n",
    "import glob\n",
    "import os\n",
    "\n",
    "from torchinfo import summary\n",
    "from PIL       import Image\n",
    "from torch     import cuda\n",
    "\n",
    "from src.model.model import FireSegmentationModel\n",
    "from typing          import Tuple"
   ]
  },
  {
   "cell_type": "code",
   "execution_count": 20,
   "metadata": {},
   "outputs": [],
   "source": [
    "DEVICE = torch.device(\"cuda:0\" if torch.cuda.is_available() else \"cpu\")"
   ]
  },
  {
   "cell_type": "code",
   "execution_count": 21,
   "metadata": {
    "id": "Mo7A2fv6Hpf-"
   },
   "outputs": [],
   "source": [
    "BASE_DIR = '.'"
   ]
  },
  {
   "cell_type": "code",
   "execution_count": 22,
   "metadata": {},
   "outputs": [],
   "source": [
    "ORIGINAL_SHAPE = (3840, 2160)\n",
    "RESIZE_SHAPE   = (512, 512)\n",
    "BATCH_SIZE     = 1"
   ]
  },
  {
   "cell_type": "code",
   "execution_count": 30,
   "metadata": {},
   "outputs": [],
   "source": [
    "from torch.nn.functional import softmax\n",
    "\n",
    "\n",
    "\n",
    "class FireSegmentationModelImproved(FireSegmentationModel):\n",
    "    def __init__(self, input_size: Tuple[int, int], device: str, softmax_flag = True):\n",
    "        super().__init__(input_size, device)\n",
    "        self.softmax_flag = softmax_flag\n",
    "    def forward(self, x: torch.FloatTensor) -> torch.FloatTensor:\n",
    "        y = super().forward(x)\n",
    "        return softmax(y, dim=1) if self.softmax_flag  else y"
   ]
  },
  {
   "cell_type": "code",
   "execution_count": 33,
   "metadata": {},
   "outputs": [],
   "source": [
    "SOFTMAX_FLAG = True\n",
    "\n",
    "model = FireSegmentationModelImproved(RESIZE_SHAPE, DEVICE, SOFTMAX_FLAG)"
   ]
  },
  {
   "cell_type": "code",
   "execution_count": 34,
   "metadata": {},
   "outputs": [
    {
     "data": {
      "text/plain": [
       "==============================================================================================================\n",
       "Layer (type:depth-idx)                                       Output Shape              Param #\n",
       "==============================================================================================================\n",
       "FireSegmentationModelImproved                                [1, 2, 512, 512]          --\n",
       "├─Encoder: 1-1                                               [1, 16, 256, 256]         --\n",
       "│    └─DCNN: 2-1                                             [1, 16, 256, 256]         --\n",
       "│    │    └─Sequential: 3-1                                  [1, 16, 256, 256]         464\n",
       "│    │    └─Sequential: 3-2                                  [1, 16, 256, 256]         464\n",
       "│    │    └─Sequential: 3-3                                  [1, 24, 128, 128]         7,880\n",
       "│    │    └─Sequential: 3-4                                  [1, 40, 64, 64]           52,312\n",
       "│    │    └─Sequential: 3-5                                  [1, 960, 16, 16]          2,910,832\n",
       "│    └─ASPP: 2-2                                             [1, 256, 16, 16]          --\n",
       "│    │    └─Sequential: 3-6                                  [1, 256, 16, 16]          246,272\n",
       "│    │    └─Sequential: 3-7                                  [1, 256, 16, 16]          2,212,352\n",
       "│    │    └─Sequential: 3-8                                  [1, 256, 16, 16]          2,212,352\n",
       "│    │    └─Sequential: 3-9                                  [1, 256, 16, 16]          2,212,352\n",
       "│    │    └─Sequential: 3-10                                 [1, 256, 1, 1]            246,272\n",
       "│    │    └─Sequential: 3-11                                 [1, 256, 16, 16]          328,192\n",
       "├─Decoder: 1-2                                               [1, 2, 512, 512]          --\n",
       "│    └─Sequential: 2-3                                       [1, 256, 256, 256]        --\n",
       "│    │    └─Conv2d: 3-12                                     [1, 256, 256, 256]        4,096\n",
       "│    │    └─BatchNorm2d: 3-13                                [1, 256, 256, 256]        512\n",
       "│    │    └─ReLU: 3-14                                       [1, 256, 256, 256]        --\n",
       "│    └─Sequential: 2-4                                       [1, 256, 128, 128]        --\n",
       "│    │    └─Conv2d: 3-15                                     [1, 256, 128, 128]        6,144\n",
       "│    │    └─BatchNorm2d: 3-16                                [1, 256, 128, 128]        512\n",
       "│    │    └─ReLU: 3-17                                       [1, 256, 128, 128]        --\n",
       "│    └─Sequential: 2-5                                       [1, 256, 64, 64]          --\n",
       "│    │    └─Conv2d: 3-18                                     [1, 256, 64, 64]          10,240\n",
       "│    │    └─BatchNorm2d: 3-19                                [1, 256, 64, 64]          512\n",
       "│    │    └─ReLU: 3-20                                       [1, 256, 64, 64]          --\n",
       "│    └─Upsample: 2-6                                         [1, 256, 128, 128]        --\n",
       "│    └─Upsample: 2-7                                         [1, 256, 128, 128]        --\n",
       "│    └─Upsample: 2-8                                         [1, 256, 128, 128]        --\n",
       "│    └─Sequential: 2-9                                       [1, 2, 126, 126]          --\n",
       "│    │    └─Conv2d: 3-21                                     [1, 256, 126, 126]        2,359,296\n",
       "│    │    └─BatchNorm2d: 3-22                                [1, 256, 126, 126]        512\n",
       "│    │    └─ReLU: 3-23                                       [1, 256, 126, 126]        --\n",
       "│    │    └─Conv2d: 3-24                                     [1, 2, 126, 126]          514\n",
       "│    └─Upsample: 2-10                                        [1, 2, 512, 512]          --\n",
       "==============================================================================================================\n",
       "Total params: 12,812,082\n",
       "Trainable params: 12,812,082\n",
       "Non-trainable params: 0\n",
       "Total mult-adds (Units.GIGABYTES): 40.83\n",
       "==============================================================================================================\n",
       "Input size (MB): 3.15\n",
       "Forward/backward pass size (MB): 790.68\n",
       "Params size (MB): 51.25\n",
       "Estimated Total Size (MB): 845.07\n",
       "=============================================================================================================="
      ]
     },
     "execution_count": 34,
     "metadata": {},
     "output_type": "execute_result"
    }
   ],
   "source": [
    "summary(model.eval(), input_size=(BATCH_SIZE, 3, *RESIZE_SHAPE))"
   ]
  },
  {
   "cell_type": "code",
   "execution_count": 35,
   "metadata": {},
   "outputs": [],
   "source": [
    "from src.training.utils import Checkpoint\n",
    "\n",
    "# Set the checkpoint monitor.\n",
    "checkpoint = Checkpoint(os.path.join(BASE_DIR, 'model', 'checkpoints.pth'))"
   ]
  },
  {
   "cell_type": "code",
   "execution_count": 36,
   "metadata": {},
   "outputs": [],
   "source": [
    "checkpoint.load_best_weights(model)\n",
    "model = model.eval();"
   ]
  },
  {
   "cell_type": "markdown",
   "metadata": {},
   "source": [
    "### Экспортируем модель в формат ONNX"
   ]
  },
  {
   "cell_type": "code",
   "execution_count": 43,
   "metadata": {},
   "outputs": [
    {
     "ename": "SyntaxError",
     "evalue": "unmatched ')' (2709163347.py, line 3)",
     "output_type": "error",
     "traceback": [
      "\u001b[0;36m  Cell \u001b[0;32mIn[43], line 3\u001b[0;36m\u001b[0m\n\u001b[0;31m    onnx_model_path = os.path.join(onnx_dir, onnx_name))\u001b[0m\n\u001b[0m                                                       ^\u001b[0m\n\u001b[0;31mSyntaxError\u001b[0m\u001b[0;31m:\u001b[0m unmatched ')'\n"
     ]
    }
   ],
   "source": [
    "onnx_dir        = \"onnx\"\n",
    "onnx_name       = f\"current_model{'_softmax' if SOFTMAX_FLAG else ''}.onnx\"\n",
    "onnx_model_path = os.path.join(onnx_dir, onnx_name)\n",
    "\n",
    "input_tensor = torch.randn(1, 3, 512, 512).cuda()\n",
    "\n",
    "if not os.path.exists(onnx_dir):\n",
    "    os.makedirs(onnx_dir)\n",
    "\n",
    "torch.onnx.export(\n",
    "    model,                              # model to export\n",
    "    (input_tensor,),         # inputs of the model,\n",
    "    onnx_model_path,         # filename of the ONNX model\n",
    "    input_names=[\"input\"],   # Rename inputs for the ONNX model\n",
    "    output_names=[\"output\"]  # Rename outputs for the ONNX model\n",
    ")\n",
    "\n",
    "print(os.path.join(onnx_dir, file_name))"
   ]
  },
  {
   "cell_type": "markdown",
   "metadata": {},
   "source": [
    "### Проверяем работу базовой модели"
   ]
  },
  {
   "cell_type": "code",
   "execution_count": null,
   "metadata": {},
   "outputs": [],
   "source": [
    "# Define paths\n",
    "model_path  = \"current_model_softmax.onnx\"\n",
    "images_path = \"data_fire/Images/*.jpg\"  # Adjust the glob pattern as needed\n",
    "    \n",
    "# Load model\n",
    "model = load_model(model_path)\n",
    "\n",
    "# Get input shape from the model\n",
    "input_shape = model.get_inputs()[0].shape  # Usually (1, C, H, W)\n",
    "    \n",
    "# Load and preprocess images\n",
    "image_paths = glob.glob(images_path)[:5]\n",
    "\n",
    "preprocessed_images = [preprocess_image(image_path, input_shape[1:]) for image_path in image_paths]\n",
    "    \n",
    "# Perform inference\n",
    "predictions = infer_images(model, preprocessed_images)\n",
    "    \n",
    "# Display results\n",
    "for image_path, prediction in zip(image_paths, predictions):\n",
    "    print(f\"Image:      {image_path}\")\n",
    "    print(f\"Prediction: {prediction}\")"
   ]
  },
  {
   "cell_type": "code",
   "execution_count": null,
   "metadata": {},
   "outputs": [],
   "source": []
  },
  {
   "cell_type": "code",
   "execution_count": null,
   "metadata": {},
   "outputs": [],
   "source": []
  }
 ],
 "metadata": {
  "accelerator": "GPU",
  "colab": {
   "machine_shape": "hm",
   "provenance": []
  },
  "gpuClass": "standard",
  "kernelspec": {
   "display_name": "Python 3 (ipykernel)",
   "language": "python",
   "name": "python3"
  },
  "language_info": {
   "codemirror_mode": {
    "name": "ipython",
    "version": 3
   },
   "file_extension": ".py",
   "mimetype": "text/x-python",
   "name": "python",
   "nbconvert_exporter": "python",
   "pygments_lexer": "ipython3",
   "version": "3.11.4"
  },
  "vscode": {
   "interpreter": {
    "hash": "0bb5e395f71e970ef2dfa88b10e29155c2f154fbffe5a547ccb4cc942724aa68"
   }
  }
 },
 "nbformat": 4,
 "nbformat_minor": 4
}
